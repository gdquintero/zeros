{
  "nbformat": 4,
  "nbformat_minor": 0,
  "metadata": {
    "colab": {
      "provenance": []
    },
    "kernelspec": {
      "name": "python3",
      "display_name": "Python 3"
    },
    "language_info": {
      "name": "python"
    }
  },
  "cells": [
    {
      "cell_type": "markdown",
      "source": [
        "# Te damos la bienvenida a Colab\n",
        "\n",
        "Si ya conoces Colab, echa un vistazo a este vídeo para obtener información sobre las tablas interactivas, la vista del historial de código ejecutado y la paleta de comandos.\n",
        "\n",
        "\n",
        "\n",
        "Consideremos la integral $\\int_a^bf(x)dx$ $\\displaystyle\\int_a^bf(x)dx$\n"
      ],
      "metadata": {
        "id": "jfgnT6qU9Vvp"
      }
    },
    {
      "cell_type": "code",
      "source": [],
      "metadata": {
        "id": "uC8AdD9V9X5J"
      },
      "execution_count": null,
      "outputs": []
    }
  ]
}
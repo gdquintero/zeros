{
  "cells": [
    {
      "attachments": {},
      "cell_type": "markdown",
      "metadata": {
        "id": "jfgnT6qU9Vvp"
      },
      "source": [
        "# Te damos la bienvenida a Colab\n",
        "\n",
        "Si ya conoces Colab, echa un vistazo a este vídeo para obtener información sobre las tablas interactivas, la vista del historial de código ejecutado y la paleta de comandos.\n",
        "\n",
        "\n",
        "\n",
        "Consideremos la integral $\\int_a^bf(x)dx$ $\\displaystyle\\int_a^bf(x)dx$\n",
        "\n",
        "Considere la suma $\\sum_{i=1}^ni$\n",
        "\n",
        "ksdhasjkdhasjkdash\n"
      ]
    },
    {
      "cell_type": "code",
      "execution_count": null,
      "metadata": {
        "id": "uC8AdD9V9X5J"
      },
      "outputs": [],
      "source": []
    }
  ],
  "metadata": {
    "colab": {
      "provenance": []
    },
    "kernelspec": {
      "display_name": "Python 3",
      "name": "python3"
    },
    "language_info": {
      "name": "python"
    }
  },
  "nbformat": 4,
  "nbformat_minor": 0
}
